{
 "cells": [
  {
   "cell_type": "code",
   "execution_count": 1,
   "id": "9f12e15b",
   "metadata": {},
   "outputs": [],
   "source": [
    "import pandas as pd\n",
    "import numpy as np\n",
    "import seaborn as sns\n",
    "import matplotlib.pyplot as plt\n",
    "import re\n",
    "import nltk\n",
    "from nltk.corpus import stopwords\n",
    "from nltk.stem.porter import PorterStemmer\n",
    "from sklearn.feature_extraction.text import CountVectorizer\n",
    "from sklearn.model_selection import train_test_split"
   ]
  },
  {
   "cell_type": "code",
   "execution_count": 30,
   "id": "d4a53f2c",
   "metadata": {},
   "outputs": [
    {
     "name": "stderr",
     "output_type": "stream",
     "text": [
      "[nltk_data] Error loading stopwords: <urlopen error [SSL:\n",
      "[nltk_data]     CERTIFICATE_VERIFY_FAILED] certificate verify failed:\n",
      "[nltk_data]     unable to get local issuer certificate (_ssl.c:1028)>\n"
     ]
    },
    {
     "data": {
      "text/plain": [
       "False"
      ]
     },
     "execution_count": 30,
     "metadata": {},
     "output_type": "execute_result"
    }
   ],
   "source": [
    "nltk.download('stopwords', quiet=True)"
   ]
  },
  {
   "cell_type": "code",
   "execution_count": 17,
   "id": "2ead4834",
   "metadata": {},
   "outputs": [
    {
     "name": "stdout",
     "output_type": "stream",
     "text": [
      "/Users/lloydbrown/venv/bin/python\n"
     ]
    }
   ],
   "source": [
    "import sys\n",
    "print(sys.executable)"
   ]
  },
  {
   "cell_type": "code",
   "execution_count": 5,
   "id": "aa062da5",
   "metadata": {},
   "outputs": [],
   "source": [
    "df=pd.read_csv(\"emails.csv\", sep=\",\")\n",
    "df = df.loc[:, ~df.columns.str.contains('^Unnamed')]\n",
    "df['spam'] = pd.to_numeric(df['spam'], errors='coerce')"
   ]
  },
  {
   "cell_type": "code",
   "execution_count": 3,
   "id": "5ae399b1",
   "metadata": {},
   "outputs": [
    {
     "data": {
      "text/html": [
       "<div>\n",
       "<style scoped>\n",
       "    .dataframe tbody tr th:only-of-type {\n",
       "        vertical-align: middle;\n",
       "    }\n",
       "\n",
       "    .dataframe tbody tr th {\n",
       "        vertical-align: top;\n",
       "    }\n",
       "\n",
       "    .dataframe thead th {\n",
       "        text-align: right;\n",
       "    }\n",
       "</style>\n",
       "<table border=\"1\" class=\"dataframe\">\n",
       "  <thead>\n",
       "    <tr style=\"text-align: right;\">\n",
       "      <th></th>\n",
       "      <th>text</th>\n",
       "      <th>spam</th>\n",
       "    </tr>\n",
       "  </thead>\n",
       "  <tbody>\n",
       "    <tr>\n",
       "      <th>0</th>\n",
       "      <td>Subject: naturally irresistible your corporate...</td>\n",
       "      <td>1.0</td>\n",
       "    </tr>\n",
       "    <tr>\n",
       "      <th>1</th>\n",
       "      <td>Subject: the stock trading gunslinger  fanny i...</td>\n",
       "      <td>1.0</td>\n",
       "    </tr>\n",
       "    <tr>\n",
       "      <th>2</th>\n",
       "      <td>Subject: unbelievable new homes made easy  im ...</td>\n",
       "      <td>1.0</td>\n",
       "    </tr>\n",
       "    <tr>\n",
       "      <th>3</th>\n",
       "      <td>Subject: 4 color printing special  request add...</td>\n",
       "      <td>1.0</td>\n",
       "    </tr>\n",
       "    <tr>\n",
       "      <th>4</th>\n",
       "      <td>Subject: do not have money , get software cds ...</td>\n",
       "      <td>1.0</td>\n",
       "    </tr>\n",
       "  </tbody>\n",
       "</table>\n",
       "</div>"
      ],
      "text/plain": [
       "                                                text  spam\n",
       "0  Subject: naturally irresistible your corporate...   1.0\n",
       "1  Subject: the stock trading gunslinger  fanny i...   1.0\n",
       "2  Subject: unbelievable new homes made easy  im ...   1.0\n",
       "3  Subject: 4 color printing special  request add...   1.0\n",
       "4  Subject: do not have money , get software cds ...   1.0"
      ]
     },
     "execution_count": 3,
     "metadata": {},
     "output_type": "execute_result"
    }
   ],
   "source": [
    "#head\n",
    "df.head()"
   ]
  },
  {
   "cell_type": "code",
   "execution_count": 37,
   "id": "c7c06ba6",
   "metadata": {},
   "outputs": [
    {
     "data": {
      "text/html": [
       "<div>\n",
       "<style scoped>\n",
       "    .dataframe tbody tr th:only-of-type {\n",
       "        vertical-align: middle;\n",
       "    }\n",
       "\n",
       "    .dataframe tbody tr th {\n",
       "        vertical-align: top;\n",
       "    }\n",
       "\n",
       "    .dataframe thead th {\n",
       "        text-align: right;\n",
       "    }\n",
       "</style>\n",
       "<table border=\"1\" class=\"dataframe\">\n",
       "  <thead>\n",
       "    <tr style=\"text-align: right;\">\n",
       "      <th></th>\n",
       "      <th>text</th>\n",
       "      <th>spam</th>\n",
       "    </tr>\n",
       "  </thead>\n",
       "  <tbody>\n",
       "    <tr>\n",
       "      <th>5725</th>\n",
       "      <td>Subject: re : research and development charges...</td>\n",
       "      <td>0</td>\n",
       "    </tr>\n",
       "    <tr>\n",
       "      <th>5726</th>\n",
       "      <td>Subject: re : receipts from visit  jim ,  than...</td>\n",
       "      <td>0</td>\n",
       "    </tr>\n",
       "    <tr>\n",
       "      <th>5727</th>\n",
       "      <td>Subject: re : enron case study update  wow ! a...</td>\n",
       "      <td>0</td>\n",
       "    </tr>\n",
       "    <tr>\n",
       "      <th>5728</th>\n",
       "      <td>Subject: re : interest  david ,  please , call...</td>\n",
       "      <td>0</td>\n",
       "    </tr>\n",
       "    <tr>\n",
       "      <th>5729</th>\n",
       "      <td>Subject: news : aurora 5 . 2 update  aurora ve...</td>\n",
       "      <td>0</td>\n",
       "    </tr>\n",
       "  </tbody>\n",
       "</table>\n",
       "</div>"
      ],
      "text/plain": [
       "                                                   text spam\n",
       "5725  Subject: re : research and development charges...    0\n",
       "5726  Subject: re : receipts from visit  jim ,  than...    0\n",
       "5727  Subject: re : enron case study update  wow ! a...    0\n",
       "5728  Subject: re : interest  david ,  please , call...    0\n",
       "5729  Subject: news : aurora 5 . 2 update  aurora ve...    0"
      ]
     },
     "execution_count": 37,
     "metadata": {},
     "output_type": "execute_result"
    }
   ],
   "source": [
    "#tail\n",
    "df.tail()"
   ]
  },
  {
   "cell_type": "code",
   "execution_count": 6,
   "id": "b633ac04",
   "metadata": {},
   "outputs": [
    {
     "data": {
      "text/plain": [
       "(5730, 110)"
      ]
     },
     "execution_count": 6,
     "metadata": {},
     "output_type": "execute_result"
    }
   ],
   "source": [
    "#shape\n",
    "df.shape"
   ]
  },
  {
   "cell_type": "code",
   "execution_count": 7,
   "id": "cca6c24d",
   "metadata": {},
   "outputs": [
    {
     "name": "stdout",
     "output_type": "stream",
     "text": [
      "<class 'pandas.core.frame.DataFrame'>\n",
      "RangeIndex: 5730 entries, 0 to 5729\n",
      "Columns: 110 entries, text to Unnamed: 109\n",
      "dtypes: float64(1), object(109)\n",
      "memory usage: 4.8+ MB\n"
     ]
    }
   ],
   "source": [
    "#info\n",
    "df.info()"
   ]
  },
  {
   "cell_type": "code",
   "execution_count": 47,
   "id": "27980e08",
   "metadata": {},
   "outputs": [
    {
     "name": "stdout",
     "output_type": "stream",
     "text": [
      "text    0\n",
      "spam    4\n",
      "dtype: int64\n"
     ]
    }
   ],
   "source": [
    "#missing values\n",
    "missing_values = df.isnull().sum()\n",
    "\n",
    "print(missing_values)"
   ]
  },
  {
   "cell_type": "code",
   "execution_count": 41,
   "id": "a4c52ab4",
   "metadata": {},
   "outputs": [
    {
     "name": "stdout",
     "output_type": "stream",
     "text": [
      "['text', 'spam']\n",
      "['1' '0' nan\n",
      " ' its termination would not  have such a phenomenal impact on the power situation .  however '\n",
      " ' mr suresh prabhu ']\n",
      "object\n"
     ]
    }
   ],
   "source": [
    "print(df.columns.tolist())\n",
    "\n",
    "print(df['spam'].unique())\n",
    "print(df['spam'].dtype)"
   ]
  },
  {
   "cell_type": "code",
   "execution_count": 45,
   "id": "a9fece8c",
   "metadata": {},
   "outputs": [],
   "source": [
    "# mean imputation\n",
    "emails_mean_imputed = df.copy()\n",
    "#emails_mean_imputed['spam'].fillna(df['spam'].mean(), inplace=True)\n",
    "emails_mean_imputed['spam'] = emails_mean_imputed['spam'].fillna(df['spam'].mean())"
   ]
  },
  {
   "cell_type": "code",
   "execution_count": 46,
   "id": "268db71a",
   "metadata": {},
   "outputs": [
    {
     "data": {
      "text/html": [
       "<div>\n",
       "<style scoped>\n",
       "    .dataframe tbody tr th:only-of-type {\n",
       "        vertical-align: middle;\n",
       "    }\n",
       "\n",
       "    .dataframe tbody tr th {\n",
       "        vertical-align: top;\n",
       "    }\n",
       "\n",
       "    .dataframe thead th {\n",
       "        text-align: right;\n",
       "    }\n",
       "</style>\n",
       "<table border=\"1\" class=\"dataframe\">\n",
       "  <thead>\n",
       "    <tr style=\"text-align: right;\">\n",
       "      <th></th>\n",
       "      <th>text</th>\n",
       "      <th>spam</th>\n",
       "    </tr>\n",
       "  </thead>\n",
       "  <tbody>\n",
       "    <tr>\n",
       "      <th>0</th>\n",
       "      <td>Subject: naturally irresistible your corporate...</td>\n",
       "      <td>1.0</td>\n",
       "    </tr>\n",
       "    <tr>\n",
       "      <th>1</th>\n",
       "      <td>Subject: the stock trading gunslinger  fanny i...</td>\n",
       "      <td>1.0</td>\n",
       "    </tr>\n",
       "    <tr>\n",
       "      <th>2</th>\n",
       "      <td>Subject: unbelievable new homes made easy  im ...</td>\n",
       "      <td>1.0</td>\n",
       "    </tr>\n",
       "    <tr>\n",
       "      <th>3</th>\n",
       "      <td>Subject: 4 color printing special  request add...</td>\n",
       "      <td>1.0</td>\n",
       "    </tr>\n",
       "    <tr>\n",
       "      <th>4</th>\n",
       "      <td>Subject: do not have money , get software cds ...</td>\n",
       "      <td>1.0</td>\n",
       "    </tr>\n",
       "    <tr>\n",
       "      <th>...</th>\n",
       "      <td>...</td>\n",
       "      <td>...</td>\n",
       "    </tr>\n",
       "    <tr>\n",
       "      <th>5725</th>\n",
       "      <td>Subject: re : research and development charges...</td>\n",
       "      <td>0.0</td>\n",
       "    </tr>\n",
       "    <tr>\n",
       "      <th>5726</th>\n",
       "      <td>Subject: re : receipts from visit  jim ,  than...</td>\n",
       "      <td>0.0</td>\n",
       "    </tr>\n",
       "    <tr>\n",
       "      <th>5727</th>\n",
       "      <td>Subject: re : enron case study update  wow ! a...</td>\n",
       "      <td>0.0</td>\n",
       "    </tr>\n",
       "    <tr>\n",
       "      <th>5728</th>\n",
       "      <td>Subject: re : interest  david ,  please , call...</td>\n",
       "      <td>0.0</td>\n",
       "    </tr>\n",
       "    <tr>\n",
       "      <th>5729</th>\n",
       "      <td>Subject: news : aurora 5 . 2 update  aurora ve...</td>\n",
       "      <td>0.0</td>\n",
       "    </tr>\n",
       "  </tbody>\n",
       "</table>\n",
       "<p>5730 rows × 2 columns</p>\n",
       "</div>"
      ],
      "text/plain": [
       "                                                   text  spam\n",
       "0     Subject: naturally irresistible your corporate...   1.0\n",
       "1     Subject: the stock trading gunslinger  fanny i...   1.0\n",
       "2     Subject: unbelievable new homes made easy  im ...   1.0\n",
       "3     Subject: 4 color printing special  request add...   1.0\n",
       "4     Subject: do not have money , get software cds ...   1.0\n",
       "...                                                 ...   ...\n",
       "5725  Subject: re : research and development charges...   0.0\n",
       "5726  Subject: re : receipts from visit  jim ,  than...   0.0\n",
       "5727  Subject: re : enron case study update  wow ! a...   0.0\n",
       "5728  Subject: re : interest  david ,  please , call...   0.0\n",
       "5729  Subject: news : aurora 5 . 2 update  aurora ve...   0.0\n",
       "\n",
       "[5730 rows x 2 columns]"
      ]
     },
     "execution_count": 46,
     "metadata": {},
     "output_type": "execute_result"
    }
   ],
   "source": [
    "emails_mean_imputed"
   ]
  },
  {
   "cell_type": "code",
   "execution_count": 10,
   "id": "52a85adb",
   "metadata": {},
   "outputs": [
    {
     "data": {
      "text/plain": [
       "np.int64(33)"
      ]
     },
     "execution_count": 10,
     "metadata": {},
     "output_type": "execute_result"
    }
   ],
   "source": [
    "#duplicates\n",
    "df.duplicated().sum()"
   ]
  },
  {
   "cell_type": "code",
   "execution_count": 48,
   "id": "478a7fa2",
   "metadata": {},
   "outputs": [
    {
     "name": "stdout",
     "output_type": "stream",
     "text": [
      "text\n",
      "Subject: re : contact info  glenn ,  please , contact rudi zipter to set up an interview with him and david port .  vince  \" glenn darrah \" on 04 / 25 / 2001 04 : 27 : 03 pm  please respond to gdarrah @ bigfoot . com  to : vince . j . kaminski @ enron . com  cc :  subject : contact info  vincent ,  congratulations on spearheading the mind ' s eye madness event - it looks like  quite a success . my biggest disappointment is that i am leaving enron this  week and have been too busy to participate as much as i would like . i have  had continued interest in the work and presentations that amy oberg has  done , so would have really enjoyed the workshop yesterday . i am still  considering doing some or all of the motorcade friday , however that may  work .  separately , thanks for the update in the lobby today on the enterprise risk  project . please keep in touch with me . as i mentioned , my redeployment  period ends tomorrow ( april 26 ) , but i currently do not have an outside job  lined up and still have a lot of interest in the project if something can be  worked out over the next few weeks . although he is not in the same group as  david port , i have worked a lot with brad larson in the rac underwriting  group - he may be a good source of information on me also .  contact information :  e - mail : gdarrah @ bigfoot . com  phone : 713 . 668 . 4277  cell : 713 . 320 . 5615  thanks ,  glenn darrah  get your free download of msn explorer at http : / / explorer . msn . com                                                                                                                                                                                                                                                                                                                                                                                                                                                                                                                                                                                                                                                                                                                                                                                                                                                                                                                                                                                                                                                                                                                                                                                                                                                                                                                                                                                                                                                                                                  2\n",
      "Subject: re : grades  pam ,  another group :  stuart hamel  jed howard  brian nelson  b +  vince  pamela vande krol castro on 05 / 03 / 2001 08 : 58 : 24 am  to : vince . j . kaminski @ enron . com  cc :  subject : re : grades  got them - thank you ! - pvc  at 05 : 21 pm 5 / 2 / 01 - 0500 , you wrote :  > pam ,  >  > another team :  >  > elena chilkina  > robert j . guadette  > joseph helms  > kenneth jett  > todd litton  > mark westmoreland  >  >  > grade : a -  >  >  > vince kaminski                                                                                                                                                                                                                                                                                                                                                                                                                                                                                                                                                                                                                                                                                                                                                                                                                                                                                                                                                                                                                                                                                                                                                                                                                                                                                                                                                                                                                                                                                                                                                                                                                                                                                                                                                                                                                                                                                                                                                                                                                                                                                                                                                                                                                                                                                                                                                                                                                                                                                                                                              2\n",
      "Subject: re : willow and pathstar evaluations  mike ,  we are short manpower in london . we shall try to  evaluate the software in houston .  vince  \" mike curran \" on 04 / 24 / 2001 10 : 03 : 24 am  please respond to \" mike curran \"  to :  cc :  subject : willow and pathstar evaluations  hi vince -  hope all is well with you .  sharad hasn ' t had time to evaluate our willow tree or monte carlo software  since the middle of last year . is there somebody else that could do it ?  please let me know who i should send the evaluation to .  best regards ,  michael curran  ceo  quantin ' leap limited  piercy house  7 copthall avenue  london ec 2 r 7 nj  tel : + 44 ( 0 ) 20 7562 3450  fax : + 44 ( 0 ) 20 7562 3411  mailto : mcurran @ quantinleap . com  http : / / www . quantinleap . com                                                                                                                                                                                                                                                                                                                                                                                                                                                                                                                                                                                                                                                                                                                                                                                                                                                                                                                                                                                                                                                                                                                                                                                                                                                                                                                                                                                                                                                                                                                                                                                                                                                                                                                                                                                                                                                                                                                                                                                                                                                                                                                                                                                                                                  2\n",
      "Subject: re : your mail  zhendong ,  dr . kaminski called me back telling me that he would like to have you as  an intern student in his research department during the summer . please  write him an email as soon as possible to introduce yourself and letting  him know of your expected starting date and ending date . dr . kaminski ' s  email address is vince . j . kaminski @ enron . com  shi - jie deng  assistant professor  school of isye  georgia institute of technology  office phone : ( 404 ) 894 - 6519  e - mail : deng @ isye . gatech . edu  home page : http : / / www . isye . gatech . edu / ~ deng                                                                                                                                                                                                                                                                                                                                                                                                                                                                                                                                                                                                                                                                                                                                                                                                                                                                                                                                                                                                                                                                                                                                                                                                                                                                                                                                                                                                                                                                                                                                                                                                                                                                                                                                                                                                                                                                                                                                                                                                                                                                                                                                                                                                                                                                                                                                                                                                                          2\n",
      "Subject: re : term project :  brian ,  no problem .  vince  \" brian corbett nelson \" on 04 / 26 / 2001 08 : 15 : 14 pm  please respond to  to :  cc :  subject : re : term project :  vince , i finally joined a team that only had two members . it looks like our  paper will only be about 13 to 15 pages . we were wondering that since our  team is less than half the size of some of the other teams , if you could  possible relax the length requirement ?  thanks ,  brian nelson  - - - - - original message - - - - -  from : vince . j . kaminski @ enron . com [ mailto : vince . j . kaminski @ enron . com ]  sent : wednesday , april 11 , 2001 3 : 54 pm  to : nelsonb @ rice . edu  subject : re : term project :  brian ,  the last class + plus a few days ( depending on when i have  to submit the grades ) .  vince  \" brian corbett nelson \" on 04 / 11 / 2001  03 : 35 : 14 pm  please respond to  to :  cc :  subject : re : term project :  mr . kaminski ,  i had an interview last thusday in dallas and could not attend class . did  you set a project deadline ?  thanks ,  brian nelson  - - - - - original message - - - - -  from : vince . j . kaminski @ enron . com [ mailto : vince . j . kaminski @ enron . com ]  sent : wednesday , april 11 , 2001 3 : 22 pm  to : isranir @ rice . edu ; demianen @ rice . edu ; tbal 93 @ yahoo . com ;  maue @ rice . edu ; loughrid @ rice . edu ; jblantonjr @ yahoo . com ;  gjohnson @ rice . edu ; emchombo @ rice . edu ; nazareth @ rice . edu ;  vanstone @ rice . edu ; ganguzza @ rice . edu ; nelsonb @ rice . edu ;  sssmith @ rice . edu ; wheelock @ rice . edu ; westmore @ rice . edu ;  gaudette @ rice . edu ; otaylor @ rice . edu ; dikeman @ rice . edu ; jettke @ rice . edu ;  litton @ rice . edu ; chilkina @ rice . edu ; helms @ rice . edu ; wankhade @ rice . edu ;  monfan @ rice . edu ; kostya @ rice . edu ; pcp @ rice . edu ; yueguo @ rice . edu ;  nlwbio @ rice . edu ; zhangn @ rice . edu ; rishad @ rice . edu ; yoshiura @ rice . edu ;  howard @ rice . edu ; dayangd @ rice . edu ; wuwei @ rice . edu ; so @ rice . edu ;  wooddy @ rice . edu ; lamas @ rice . edu ; tbalestrery @ houston . rr . com ;  hingoran @ rice . edu ; planck @ rice . edu  cc : vkaminski @ aol . com ; vince . j . kaminski @ enron . com ;  jason . sokolov @ enron . com  subject : term project :  this is the list of projects for the members of the \" quant \" team .  if you are working on different project , please , ignore this message .  please , develop in a spreadsheet solutions / examples for the following :  1 . black - scholes formula  2 . black ' s formula  3 . develop a spreadsheet to simulate price trajectory using :  a . gbm  b . gbm + jump ( formula 2 . 16 in the book , figure 2 . 7 )  c . mean reversion + jump ( formula 2 . 17 , figure 2 . 8 )  4 . schwartz single factor model ( formula 6 . 12 )  5 . develop models corresponding to the figures 7 . 1 , 7 . 3 , 7 . 5 , 7 . 6 , 7 . 8  vince    2\n",
      "                                                                                                                                                                                                                                                                                                                                                                                                                                                                                                                                                                                                                                                                                                                                                                                                                                                                                                                                                                                                                                                                                                                                                                                                                                                                                                                                                                                                                                                                                                                                                                                                                                                                                                                                                                                                                                                                                                                                                                                                                                                                                                                                                                                                                                                                                                                                                                                                                                                                                                                                                                                                                                                                                                                                                                                                                                                                                                                                                                                                                                                       ..\n",
      "Subject: re : eol  clayton ,  great news . i would like to sit down with you , tom and stinson and review  where  we are with this project . also , i would like to talk to you about your  status ( finalizing  the transfer to another group ) .  vince  clayton vernon @ enron  01 / 18 / 2001 03 : 21 pm  to : vasant shanbhogue / hou / ect @ ect  cc : stinson gibner / hou / ect @ ect , vince j kaminski / hou / ect @ ect  subject : eol  vasant -  dave delaney called an hour ago . he needed a statistic from eol that the eol  folks couldn ' t give him ( it seems they had a database problem in 1999 ) , and  the grapevine had it we had the data . tom barkley was able to give him the  data he needed for his presentation , within a matter of 10 minutes or so .  clayton                                                                                                                                                                                                                                                                                                                                                                                                                                                                                                                                                                                                                                                                                                                                                                                                                                                                                                                                                                                                                                                                                                                                                                                                                                                                                                                                                                                                                                                                                                                                                                                                                                                                                                                                                                                                                                                                                                                                                                                                                                                                                                                                                                                                                                                         1\n",
      "Subject: resumes  charlene ,  i am sending you as promised the information i have about 3 of our summer  interns .  i shall fax you this morning two additional resumes i have in hard copy .  in the case of paulo rocha we don ' t have a formal  resume , just a letter from him with the summary of his skills .  thanks for your help . enron desperately needs this talent .  vince                                                                                                                                                                                                                                                                                                                                                                                                                                                                                                                                                                                                                                                                                                                                                                                                                                                                                                                                                                                                                                                                                                                                                                                                                                                                                                                                                                                                                                                                                                                                                                                                                                                                                                                                                                                                                                                                                                                                                                                                                                                                                                                                                                                                                                                                                                                                                                                                                                                                                                                                                                                                                                                               1\n",
      "Subject: your talk on 2 / 7 / 00 ( monday ) ( fwd )  vince : a minor revision of my earlier email shown below . the last line  should read ' i will be waiting in my office from 6 : 30 - 6 : 50 for your call  . . . ' my office phone is 713 743 4716 . sorry that i have to resend this  email . ed  - - - - - - - - - - forwarded message - - - - - - - - - -  date : thu , 3 feb 2000 08 : 17 : 40 - 0600 ( cst )  from : edward kao  to : vince j kaminski  subject : your talk on 2 / 7 / 00 ( monday )  dear vince :  i would like to send out an annoucement about your talk in my risk  management in the energy sector course on february 7 , monday . is it  correct that the name of your talk will be \" commodity trading in the  energy sector \" . you indicated that you would be using transparencies so  we have a projector ready for you . please let me know if there is  anything else you need for the talk . please also confirm this at your  earliest convenience so that i can get announcement sent out soon . thanks  in advance for the talk . we all look forward to meeting you monday .  best regards , ed  ps . the class meet 7 : 00 - 8 : 20 pm at 117 meclcher hall . as we originally  planned , i will be waiting in my office from 6 : 30 - 6 : 50 and greet you at  the parking lot ie .                                                                                                                                                                                                                                                                                                                                                                                                                                                                                                                                                                                                                                                                                                                                                                                                                                                                                                                                                                                                                                                                                                                                                                                                                                                                                                                                                                                                                                                                                                                                                                                                                                                                                                                       1\n",
      "Subject: amerada hess day rate hedge numbers  attached are the historical numbers for the semi - submersibles 4 th and 5 th  generation day rates . their price is 155 , 000 / day for the next 4 years . i  would think that a floor of $ 100 , 000 would be the place to start jan 1 , 2001  through dec 31 , 2004 . we need to know the call strike that would make it  costless .  i plan on making some examples discussion purposes to discuss with them on  friday of this week . i will update you asap on the balance of day rate  prices . let me know what else you will need to prepare the statistical  analysis . the numbers include highs and lows ; let me know your ideas on how  to address this in the quote .  thanks ,  john  30395                                                                                                                                                                                                                                                                                                                                                                                                                                                                                                                                                                                                                                                                                                                                                                                                                                                                                                                                                                                                                                                                                                                                                                                                                                                                                                                                                                                                                                                                                                                                                                                                                                                                                                                                                                                                                                                                                                                                                                                                                                                                                                                                                                                                                                                                                               1\n",
      "Subject: news : aurora 5 . 2 update  aurora version 5 . 2  - the fastest model just got faster -  epis announces the release of aurora , version 5 . 2  aurora the electric market price forecasting tool is already  legendary for power and speed . we ' ve combined a powerful chronological  dispatch model with the capability to simulate the market from 1  day to 25 + years . add to that a risk analysis section , powered by user  selectable monte carlo & / or latin hypercube modeling , enough  portfolio analysis power to please the toughest critic , & inputs and  outputs from standard excel & access tables and you ' ve got one of most  powerful tools in the market .  just a few months ago we expanded our emissions modeling  capabilities , added our quarterly database update , increased the speed  of the entire model , and made  but that wasn ' t enough .  we ' ve done it again . some of the operations that we ' ve  included . . .  two new reporting enhancements .  the first is marginal reporting  for fuels , resources and groups of resources .  the second is the ability to  display resource stack information in graphical and dispatch order form .  other enhancements include dual fuel modeling , improved  transmission modeling , greater access to hourly results , and the ability  to model monthly emission rates . moreover , the databases for  central and eastern , texas , and western markets have been updated to use  the new modeling capabilities .  we continue to make aurora easier to use . this version enhances  user control over modeling , editing inputs , and viewing of aurora  output . clients desiring to exploit the power of aurora now have  greater control over the inputs and outputs through vb scripting in  aurora . the new \" update data \" capability provides a means to  universally change any data element .  attached is more information on the fastest and most flexible  tool of its kind .  for additional information , please visit our website ( www . epis . com ) or  contact our sales department at ( 503 ) 722 - 2023 . ask about our special  7 - day demo !  v . todd wheeler  sales manager  epis , inc .  ( 503 ) 722 - 2023 tel .  ( 503 ) 722 - 7130 fax  www . epis . com  todd @ epis . com  > >  - what ' s new - version 5 . 2 information . doc  - technical information aurora v 5 - 2 . doc                                                                                                                                                                                                                                                                                                                                                                                                                                                                                                                                                                                                                             1\n",
      "Name: count, Length: 5697, dtype: int64\n",
      "******************************\n"
     ]
    }
   ],
   "source": [
    "#garbage values\n",
    "for i in df.select_dtypes(include=\"object\").columns:\n",
    "    print(df[i].value_counts())\n",
    "    print(\"***\"*10)"
   ]
  },
  {
   "cell_type": "code",
   "execution_count": 49,
   "id": "eb91d5ca",
   "metadata": {},
   "outputs": [
    {
     "data": {
      "text/plain": [
       "count    5726.000000\n",
       "mean        0.238910\n",
       "std         0.426455\n",
       "min         0.000000\n",
       "25%         0.000000\n",
       "50%         0.000000\n",
       "75%         0.000000\n",
       "max         1.000000\n",
       "Name: spam, dtype: float64"
      ]
     },
     "execution_count": 49,
     "metadata": {},
     "output_type": "execute_result"
    }
   ],
   "source": [
    "df['spam'].describe()"
   ]
  },
  {
   "cell_type": "code",
   "execution_count": 9,
   "id": "a456a722",
   "metadata": {},
   "outputs": [
    {
     "name": "stdout",
     "output_type": "stream",
     "text": [
      "                                                   text  \\\n",
      "0     Subject: naturally irresistible your corporate...   \n",
      "1     Subject: the stock trading gunslinger  fanny i...   \n",
      "2     Subject: unbelievable new homes made easy  im ...   \n",
      "3     Subject: 4 color printing special  request add...   \n",
      "4     Subject: do not have money , get software cds ...   \n",
      "...                                                 ...   \n",
      "5725  Subject: re : research and development charges...   \n",
      "5726  Subject: re : receipts from visit  jim ,  than...   \n",
      "5727  Subject: re : enron case study update  wow ! a...   \n",
      "5728  Subject: re : interest  david ,  please , call...   \n",
      "5729  Subject: news : aurora 5 . 2 update  aurora ve...   \n",
      "\n",
      "                                                finders  \n",
      "0                             [and, and, and, and, and]  \n",
      "1                           [and, or, and, or, and, or]  \n",
      "2                                            [and, and]  \n",
      "3                                             [and, or]  \n",
      "4                                                    []  \n",
      "...                                                 ...  \n",
      "5725                                [and, and, and, if]  \n",
      "5726                                         [and, and]  \n",
      "5727                      [and, and, if, and, and, and]  \n",
      "5728                                              [and]  \n",
      "5729  [and, or, and, and, and, and, and, and, and, a...  \n",
      "\n",
      "[5730 rows x 2 columns]\n"
     ]
    }
   ],
   "source": [
    "df['finders'] = df['text'].apply(lambda x: re.findall(r'\\b(and|if|or)\\b', str(x)))\n",
    "\n",
    "print(df[['text', 'finders']])"
   ]
  },
  {
   "cell_type": "code",
   "execution_count": 28,
   "id": "4c7e6dd8",
   "metadata": {},
   "outputs": [],
   "source": [
    "df['text'] = df['text'].apply(lambda x: x.replace('\\r\\n', ' '))"
   ]
  },
  {
   "cell_type": "code",
   "execution_count": 29,
   "id": "9bba2ec5",
   "metadata": {},
   "outputs": [
    {
     "ename": "LookupError",
     "evalue": "\n**********************************************************************\n  Resource \u001b[93mstopwords\u001b[0m not found.\n  Please use the NLTK Downloader to obtain the resource:\n\n  \u001b[31m>>> import nltk\n  >>> nltk.download('stopwords')\n  \u001b[0m\n  For more information see: https://www.nltk.org/data.html\n\n  Attempted to load \u001b[93mcorpora/stopwords\u001b[0m\n\n  Searched in:\n    - '/Users/lloydbrown/nltk_data'\n    - '/Users/lloydbrown/venv/nltk_data'\n    - '/Users/lloydbrown/venv/share/nltk_data'\n    - '/Users/lloydbrown/venv/lib/nltk_data'\n    - '/usr/share/nltk_data'\n    - '/usr/local/share/nltk_data'\n    - '/usr/lib/nltk_data'\n    - '/usr/local/lib/nltk_data'\n**********************************************************************\n",
     "output_type": "error",
     "traceback": [
      "\u001b[31m---------------------------------------------------------------------------\u001b[39m",
      "\u001b[31mLookupError\u001b[39m                               Traceback (most recent call last)",
      "\u001b[36mFile \u001b[39m\u001b[32m~/venv/lib/python3.13/site-packages/nltk/corpus/util.py:84\u001b[39m, in \u001b[36mLazyCorpusLoader.__load\u001b[39m\u001b[34m(self)\u001b[39m\n\u001b[32m     83\u001b[39m \u001b[38;5;28;01mtry\u001b[39;00m:\n\u001b[32m---> \u001b[39m\u001b[32m84\u001b[39m     root = \u001b[43mnltk\u001b[49m\u001b[43m.\u001b[49m\u001b[43mdata\u001b[49m\u001b[43m.\u001b[49m\u001b[43mfind\u001b[49m\u001b[43m(\u001b[49m\u001b[33;43mf\u001b[39;49m\u001b[33;43m\"\u001b[39;49m\u001b[38;5;132;43;01m{\u001b[39;49;00m\u001b[38;5;28;43mself\u001b[39;49m\u001b[43m.\u001b[49m\u001b[43msubdir\u001b[49m\u001b[38;5;132;43;01m}\u001b[39;49;00m\u001b[33;43m/\u001b[39;49m\u001b[38;5;132;43;01m{\u001b[39;49;00m\u001b[43mzip_name\u001b[49m\u001b[38;5;132;43;01m}\u001b[39;49;00m\u001b[33;43m\"\u001b[39;49m\u001b[43m)\u001b[49m\n\u001b[32m     85\u001b[39m \u001b[38;5;28;01mexcept\u001b[39;00m \u001b[38;5;167;01mLookupError\u001b[39;00m:\n",
      "\u001b[36mFile \u001b[39m\u001b[32m~/venv/lib/python3.13/site-packages/nltk/data.py:579\u001b[39m, in \u001b[36mfind\u001b[39m\u001b[34m(resource_name, paths)\u001b[39m\n\u001b[32m    578\u001b[39m resource_not_found = \u001b[33mf\u001b[39m\u001b[33m\"\u001b[39m\u001b[38;5;130;01m\\n\u001b[39;00m\u001b[38;5;132;01m{\u001b[39;00msep\u001b[38;5;132;01m}\u001b[39;00m\u001b[38;5;130;01m\\n\u001b[39;00m\u001b[38;5;132;01m{\u001b[39;00mmsg\u001b[38;5;132;01m}\u001b[39;00m\u001b[38;5;130;01m\\n\u001b[39;00m\u001b[38;5;132;01m{\u001b[39;00msep\u001b[38;5;132;01m}\u001b[39;00m\u001b[38;5;130;01m\\n\u001b[39;00m\u001b[33m\"\u001b[39m\n\u001b[32m--> \u001b[39m\u001b[32m579\u001b[39m \u001b[38;5;28;01mraise\u001b[39;00m \u001b[38;5;167;01mLookupError\u001b[39;00m(resource_not_found)\n",
      "\u001b[31mLookupError\u001b[39m: \n**********************************************************************\n  Resource \u001b[93mstopwords\u001b[0m not found.\n  Please use the NLTK Downloader to obtain the resource:\n\n  \u001b[31m>>> import nltk\n  >>> nltk.download('stopwords')\n  \u001b[0m\n  For more information see: https://www.nltk.org/data.html\n\n  Attempted to load \u001b[93mcorpora/stopwords.zip/stopwords/\u001b[0m\n\n  Searched in:\n    - '/Users/lloydbrown/nltk_data'\n    - '/Users/lloydbrown/venv/nltk_data'\n    - '/Users/lloydbrown/venv/share/nltk_data'\n    - '/Users/lloydbrown/venv/lib/nltk_data'\n    - '/usr/share/nltk_data'\n    - '/usr/local/share/nltk_data'\n    - '/usr/lib/nltk_data'\n    - '/usr/local/lib/nltk_data'\n**********************************************************************\n",
      "\nDuring handling of the above exception, another exception occurred:\n",
      "\u001b[31mLookupError\u001b[39m                               Traceback (most recent call last)",
      "\u001b[36mCell\u001b[39m\u001b[36m \u001b[39m\u001b[32mIn[29]\u001b[39m\u001b[32m, line 4\u001b[39m\n\u001b[32m      1\u001b[39m stemmer = PorterStemmer()\n\u001b[32m      2\u001b[39m corpus = []\n\u001b[32m----> \u001b[39m\u001b[32m4\u001b[39m stopwords_set = \u001b[38;5;28mset\u001b[39m(\u001b[43mstopwords\u001b[49m\u001b[43m.\u001b[49m\u001b[43mwords\u001b[49m(\u001b[33m'\u001b[39m\u001b[33menglish\u001b[39m\u001b[33m'\u001b[39m))\n\u001b[32m      6\u001b[39m \u001b[38;5;28;01mfor\u001b[39;00m i \u001b[38;5;129;01min\u001b[39;00m \u001b[38;5;28mrange\u001b[39m(\u001b[38;5;28mlen\u001b[39m(df)):\n\u001b[32m      7\u001b[39m     text = df[\u001b[33m'\u001b[39m\u001b[33mtext\u001b[39m\u001b[33m'\u001b[39m].iloc[i].lower()\n",
      "\u001b[36mFile \u001b[39m\u001b[32m~/venv/lib/python3.13/site-packages/nltk/corpus/util.py:120\u001b[39m, in \u001b[36mLazyCorpusLoader.__getattr__\u001b[39m\u001b[34m(self, attr)\u001b[39m\n\u001b[32m    117\u001b[39m \u001b[38;5;28;01mif\u001b[39;00m attr == \u001b[33m\"\u001b[39m\u001b[33m__bases__\u001b[39m\u001b[33m\"\u001b[39m:\n\u001b[32m    118\u001b[39m     \u001b[38;5;28;01mraise\u001b[39;00m \u001b[38;5;167;01mAttributeError\u001b[39;00m(\u001b[33m\"\u001b[39m\u001b[33mLazyCorpusLoader object has no attribute \u001b[39m\u001b[33m'\u001b[39m\u001b[33m__bases__\u001b[39m\u001b[33m'\u001b[39m\u001b[33m\"\u001b[39m)\n\u001b[32m--> \u001b[39m\u001b[32m120\u001b[39m \u001b[38;5;28;43mself\u001b[39;49m\u001b[43m.\u001b[49m\u001b[43m__load\u001b[49m\u001b[43m(\u001b[49m\u001b[43m)\u001b[49m\n\u001b[32m    121\u001b[39m \u001b[38;5;66;03m# This looks circular, but its not, since __load() changes our\u001b[39;00m\n\u001b[32m    122\u001b[39m \u001b[38;5;66;03m# __class__ to something new:\u001b[39;00m\n\u001b[32m    123\u001b[39m \u001b[38;5;28;01mreturn\u001b[39;00m \u001b[38;5;28mgetattr\u001b[39m(\u001b[38;5;28mself\u001b[39m, attr)\n",
      "\u001b[36mFile \u001b[39m\u001b[32m~/venv/lib/python3.13/site-packages/nltk/corpus/util.py:86\u001b[39m, in \u001b[36mLazyCorpusLoader.__load\u001b[39m\u001b[34m(self)\u001b[39m\n\u001b[32m     84\u001b[39m             root = nltk.data.find(\u001b[33mf\u001b[39m\u001b[33m\"\u001b[39m\u001b[38;5;132;01m{\u001b[39;00m\u001b[38;5;28mself\u001b[39m.subdir\u001b[38;5;132;01m}\u001b[39;00m\u001b[33m/\u001b[39m\u001b[38;5;132;01m{\u001b[39;00mzip_name\u001b[38;5;132;01m}\u001b[39;00m\u001b[33m\"\u001b[39m)\n\u001b[32m     85\u001b[39m         \u001b[38;5;28;01mexcept\u001b[39;00m \u001b[38;5;167;01mLookupError\u001b[39;00m:\n\u001b[32m---> \u001b[39m\u001b[32m86\u001b[39m             \u001b[38;5;28;01mraise\u001b[39;00m e\n\u001b[32m     88\u001b[39m \u001b[38;5;66;03m# Load the corpus.\u001b[39;00m\n\u001b[32m     89\u001b[39m corpus = \u001b[38;5;28mself\u001b[39m.__reader_cls(root, *\u001b[38;5;28mself\u001b[39m.__args, **\u001b[38;5;28mself\u001b[39m.__kwargs)\n",
      "\u001b[36mFile \u001b[39m\u001b[32m~/venv/lib/python3.13/site-packages/nltk/corpus/util.py:81\u001b[39m, in \u001b[36mLazyCorpusLoader.__load\u001b[39m\u001b[34m(self)\u001b[39m\n\u001b[32m     79\u001b[39m \u001b[38;5;28;01melse\u001b[39;00m:\n\u001b[32m     80\u001b[39m     \u001b[38;5;28;01mtry\u001b[39;00m:\n\u001b[32m---> \u001b[39m\u001b[32m81\u001b[39m         root = \u001b[43mnltk\u001b[49m\u001b[43m.\u001b[49m\u001b[43mdata\u001b[49m\u001b[43m.\u001b[49m\u001b[43mfind\u001b[49m\u001b[43m(\u001b[49m\u001b[33;43mf\u001b[39;49m\u001b[33;43m\"\u001b[39;49m\u001b[38;5;132;43;01m{\u001b[39;49;00m\u001b[38;5;28;43mself\u001b[39;49m\u001b[43m.\u001b[49m\u001b[43msubdir\u001b[49m\u001b[38;5;132;43;01m}\u001b[39;49;00m\u001b[33;43m/\u001b[39;49m\u001b[38;5;132;43;01m{\u001b[39;49;00m\u001b[38;5;28;43mself\u001b[39;49m\u001b[43m.\u001b[49m\u001b[43m__name\u001b[49m\u001b[38;5;132;43;01m}\u001b[39;49;00m\u001b[33;43m\"\u001b[39;49m\u001b[43m)\u001b[49m\n\u001b[32m     82\u001b[39m     \u001b[38;5;28;01mexcept\u001b[39;00m \u001b[38;5;167;01mLookupError\u001b[39;00m \u001b[38;5;28;01mas\u001b[39;00m e:\n\u001b[32m     83\u001b[39m         \u001b[38;5;28;01mtry\u001b[39;00m:\n",
      "\u001b[36mFile \u001b[39m\u001b[32m~/venv/lib/python3.13/site-packages/nltk/data.py:579\u001b[39m, in \u001b[36mfind\u001b[39m\u001b[34m(resource_name, paths)\u001b[39m\n\u001b[32m    577\u001b[39m sep = \u001b[33m\"\u001b[39m\u001b[33m*\u001b[39m\u001b[33m\"\u001b[39m * \u001b[32m70\u001b[39m\n\u001b[32m    578\u001b[39m resource_not_found = \u001b[33mf\u001b[39m\u001b[33m\"\u001b[39m\u001b[38;5;130;01m\\n\u001b[39;00m\u001b[38;5;132;01m{\u001b[39;00msep\u001b[38;5;132;01m}\u001b[39;00m\u001b[38;5;130;01m\\n\u001b[39;00m\u001b[38;5;132;01m{\u001b[39;00mmsg\u001b[38;5;132;01m}\u001b[39;00m\u001b[38;5;130;01m\\n\u001b[39;00m\u001b[38;5;132;01m{\u001b[39;00msep\u001b[38;5;132;01m}\u001b[39;00m\u001b[38;5;130;01m\\n\u001b[39;00m\u001b[33m\"\u001b[39m\n\u001b[32m--> \u001b[39m\u001b[32m579\u001b[39m \u001b[38;5;28;01mraise\u001b[39;00m \u001b[38;5;167;01mLookupError\u001b[39;00m(resource_not_found)\n",
      "\u001b[31mLookupError\u001b[39m: \n**********************************************************************\n  Resource \u001b[93mstopwords\u001b[0m not found.\n  Please use the NLTK Downloader to obtain the resource:\n\n  \u001b[31m>>> import nltk\n  >>> nltk.download('stopwords')\n  \u001b[0m\n  For more information see: https://www.nltk.org/data.html\n\n  Attempted to load \u001b[93mcorpora/stopwords\u001b[0m\n\n  Searched in:\n    - '/Users/lloydbrown/nltk_data'\n    - '/Users/lloydbrown/venv/nltk_data'\n    - '/Users/lloydbrown/venv/share/nltk_data'\n    - '/Users/lloydbrown/venv/lib/nltk_data'\n    - '/usr/share/nltk_data'\n    - '/usr/local/share/nltk_data'\n    - '/usr/lib/nltk_data'\n    - '/usr/local/lib/nltk_data'\n**********************************************************************\n"
     ]
    }
   ],
   "source": [
    "stemmer = PorterStemmer()\n",
    "corpus = []\n",
    "\n",
    "stopwords_set = set(stopwords.words('english'))\n",
    "\n",
    "for i in range(len(df)):\n",
    "    text = df['text'].iloc[i].lower()\n",
    "    text = text.translate(str.maketrans(' ', ' ', string.punctuation)).split()\n",
    "    text = [stemmer.stem(word) for word in text if word not in stopwords_set]\n",
    "    text = ' '.join(text)\n",
    "    corpus.append(text)\n"
   ]
  }
 ],
 "metadata": {
  "kernelspec": {
   "display_name": "venv",
   "language": "python",
   "name": "python3"
  },
  "language_info": {
   "codemirror_mode": {
    "name": "ipython",
    "version": 3
   },
   "file_extension": ".py",
   "mimetype": "text/x-python",
   "name": "python",
   "nbconvert_exporter": "python",
   "pygments_lexer": "ipython3",
   "version": "3.13.3"
  }
 },
 "nbformat": 4,
 "nbformat_minor": 5
}
